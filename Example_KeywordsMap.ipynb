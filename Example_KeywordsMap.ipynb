{
  "nbformat": 4,
  "nbformat_minor": 0,
  "metadata": {
    "colab": {
      "provenance": [],
      "include_colab_link": true
    },
    "kernelspec": {
      "name": "python3",
      "display_name": "Python 3"
    },
    "language_info": {
      "name": "python"
    }
  },
  "cells": [
    {
      "cell_type": "markdown",
      "metadata": {
        "id": "view-in-github",
        "colab_type": "text"
      },
      "source": [
        "<a href=\"https://colab.research.google.com/github/HSS107048212/KeywordsMap/blob/main/Example_KeywordsMap.ipynb\" target=\"_parent\"><img src=\"https://colab.research.google.com/assets/colab-badge.svg\" alt=\"Open In Colab\"/></a>"
      ]
    },
    {
      "cell_type": "markdown",
      "source": [
        "安裝所需的Python套件：Pytrends、pandas和gspread-dataframe"
      ],
      "metadata": {
        "id": "bSSIIvTbHlkX"
      }
    },
    {
      "cell_type": "code",
      "source": [
        "!pip install Pytrends\n",
        "!pip install pandas\n",
        "!pip install gspread-dataframe==3.2.1"
      ],
      "metadata": {
        "colab": {
          "base_uri": "https://localhost:8080/"
        },
        "id": "Ny1XTu-xHpQV",
        "outputId": "b26412d0-1445-4794-801b-95435454c373"
      },
      "execution_count": 17,
      "outputs": [
        {
          "output_type": "stream",
          "name": "stdout",
          "text": [
            "Requirement already satisfied: Pytrends in /usr/local/lib/python3.10/dist-packages (4.9.2)\n",
            "Requirement already satisfied: requests>=2.0 in /usr/local/lib/python3.10/dist-packages (from Pytrends) (2.27.1)\n",
            "Requirement already satisfied: pandas>=0.25 in /usr/local/lib/python3.10/dist-packages (from Pytrends) (1.5.3)\n",
            "Requirement already satisfied: lxml in /usr/local/lib/python3.10/dist-packages (from Pytrends) (4.9.3)\n",
            "Requirement already satisfied: python-dateutil>=2.8.1 in /usr/local/lib/python3.10/dist-packages (from pandas>=0.25->Pytrends) (2.8.2)\n",
            "Requirement already satisfied: pytz>=2020.1 in /usr/local/lib/python3.10/dist-packages (from pandas>=0.25->Pytrends) (2022.7.1)\n",
            "Requirement already satisfied: numpy>=1.21.0 in /usr/local/lib/python3.10/dist-packages (from pandas>=0.25->Pytrends) (1.22.4)\n",
            "Requirement already satisfied: urllib3<1.27,>=1.21.1 in /usr/local/lib/python3.10/dist-packages (from requests>=2.0->Pytrends) (1.26.16)\n",
            "Requirement already satisfied: certifi>=2017.4.17 in /usr/local/lib/python3.10/dist-packages (from requests>=2.0->Pytrends) (2023.5.7)\n",
            "Requirement already satisfied: charset-normalizer~=2.0.0 in /usr/local/lib/python3.10/dist-packages (from requests>=2.0->Pytrends) (2.0.12)\n",
            "Requirement already satisfied: idna<4,>=2.5 in /usr/local/lib/python3.10/dist-packages (from requests>=2.0->Pytrends) (3.4)\n",
            "Requirement already satisfied: six>=1.5 in /usr/local/lib/python3.10/dist-packages (from python-dateutil>=2.8.1->pandas>=0.25->Pytrends) (1.16.0)\n",
            "Requirement already satisfied: pandas in /usr/local/lib/python3.10/dist-packages (1.5.3)\n",
            "Requirement already satisfied: python-dateutil>=2.8.1 in /usr/local/lib/python3.10/dist-packages (from pandas) (2.8.2)\n",
            "Requirement already satisfied: pytz>=2020.1 in /usr/local/lib/python3.10/dist-packages (from pandas) (2022.7.1)\n",
            "Requirement already satisfied: numpy>=1.21.0 in /usr/local/lib/python3.10/dist-packages (from pandas) (1.22.4)\n",
            "Requirement already satisfied: six>=1.5 in /usr/local/lib/python3.10/dist-packages (from python-dateutil>=2.8.1->pandas) (1.16.0)\n",
            "Requirement already satisfied: gspread-dataframe==3.2.1 in /usr/local/lib/python3.10/dist-packages (3.2.1)\n",
            "Requirement already satisfied: gspread>=3.0.0 in /usr/local/lib/python3.10/dist-packages (from gspread-dataframe==3.2.1) (3.4.2)\n",
            "Requirement already satisfied: pandas>=0.24.0 in /usr/local/lib/python3.10/dist-packages (from gspread-dataframe==3.2.1) (1.5.3)\n",
            "Requirement already satisfied: six>=1.12.0 in /usr/local/lib/python3.10/dist-packages (from gspread-dataframe==3.2.1) (1.16.0)\n",
            "Requirement already satisfied: requests>=2.2.1 in /usr/local/lib/python3.10/dist-packages (from gspread>=3.0.0->gspread-dataframe==3.2.1) (2.27.1)\n",
            "Requirement already satisfied: google-auth in /usr/local/lib/python3.10/dist-packages (from gspread>=3.0.0->gspread-dataframe==3.2.1) (2.17.3)\n",
            "Requirement already satisfied: python-dateutil>=2.8.1 in /usr/local/lib/python3.10/dist-packages (from pandas>=0.24.0->gspread-dataframe==3.2.1) (2.8.2)\n",
            "Requirement already satisfied: pytz>=2020.1 in /usr/local/lib/python3.10/dist-packages (from pandas>=0.24.0->gspread-dataframe==3.2.1) (2022.7.1)\n",
            "Requirement already satisfied: numpy>=1.21.0 in /usr/local/lib/python3.10/dist-packages (from pandas>=0.24.0->gspread-dataframe==3.2.1) (1.22.4)\n",
            "Requirement already satisfied: urllib3<1.27,>=1.21.1 in /usr/local/lib/python3.10/dist-packages (from requests>=2.2.1->gspread>=3.0.0->gspread-dataframe==3.2.1) (1.26.16)\n",
            "Requirement already satisfied: certifi>=2017.4.17 in /usr/local/lib/python3.10/dist-packages (from requests>=2.2.1->gspread>=3.0.0->gspread-dataframe==3.2.1) (2023.5.7)\n",
            "Requirement already satisfied: charset-normalizer~=2.0.0 in /usr/local/lib/python3.10/dist-packages (from requests>=2.2.1->gspread>=3.0.0->gspread-dataframe==3.2.1) (2.0.12)\n",
            "Requirement already satisfied: idna<4,>=2.5 in /usr/local/lib/python3.10/dist-packages (from requests>=2.2.1->gspread>=3.0.0->gspread-dataframe==3.2.1) (3.4)\n",
            "Requirement already satisfied: cachetools<6.0,>=2.0.0 in /usr/local/lib/python3.10/dist-packages (from google-auth->gspread>=3.0.0->gspread-dataframe==3.2.1) (5.3.1)\n",
            "Requirement already satisfied: pyasn1-modules>=0.2.1 in /usr/local/lib/python3.10/dist-packages (from google-auth->gspread>=3.0.0->gspread-dataframe==3.2.1) (0.3.0)\n",
            "Requirement already satisfied: rsa<5,>=3.1.4 in /usr/local/lib/python3.10/dist-packages (from google-auth->gspread>=3.0.0->gspread-dataframe==3.2.1) (4.9)\n",
            "Requirement already satisfied: pyasn1<0.6.0,>=0.4.6 in /usr/local/lib/python3.10/dist-packages (from pyasn1-modules>=0.2.1->google-auth->gspread>=3.0.0->gspread-dataframe==3.2.1) (0.5.0)\n"
          ]
        }
      ]
    },
    {
      "cell_type": "markdown",
      "source": [
        "定義一個名為SPREADSHEET的變數，其值為Google試算表的URL。"
      ],
      "metadata": {
        "id": "wdfvy3DSHqG3"
      }
    },
    {
      "cell_type": "code",
      "source": [
        "SPREADSHEET = 'https://docs.google.com/spreadsheets/d/1CzhrUlWD8gLhvI9kBuuTGqWOuKpZpDSqf1kJEy_M62o/edit#gid=0'"
      ],
      "metadata": {
        "id": "6kD_G0YBHw2I"
      },
      "execution_count": 18,
      "outputs": []
    },
    {
      "cell_type": "markdown",
      "source": [
        "匯入所需的Python套件和模組。"
      ],
      "metadata": {
        "id": "qCiGP-XlH22R"
      }
    },
    {
      "cell_type": "code",
      "source": [
        "import pandas as pd\n",
        "from pytrends.request import TrendReq\n",
        "from google.colab import auth\n",
        "import gspread\n",
        "from google.auth import default\n",
        "import time\n",
        "import matplotlib.pyplot as plt\n",
        "import seaborn as sns\n",
        "from gspread_dataframe import get_as_dataframe, set_with_dataframe\n",
        "import urllib.parse\n",
        "import pathlib\n",
        "\n",
        "import contextlib\n",
        "\n",
        "import requests\n",
        "from pytrends.request import TrendReq"
      ],
      "metadata": {
        "id": "WI73yh-xH2Xy"
      },
      "execution_count": 19,
      "outputs": []
    },
    {
      "cell_type": "markdown",
      "source": [
        "定義一個名為_TrendReq的類別，繼承自TrendReq類別，並定義GetGoogleCookie方法。"
      ],
      "metadata": {
        "id": "gFEJWdkuH6p8"
      }
    },
    {
      "cell_type": "code",
      "source": [
        "class _TrendReq(TrendReq):\n",
        "    def GetGoogleCookie(self):\n",
        "        # TODO: make sure to get rid of this dirty hack\n",
        "        with _requests_get_as_post():\n",
        "            return super().GetGoogleCookie()"
      ],
      "metadata": {
        "id": "z6MiDwKUIJEA"
      },
      "execution_count": 20,
      "outputs": []
    },
    {
      "cell_type": "markdown",
      "source": [
        "定義一個名為_requests_get_as_post的上下文管理器，將requests.get方法替換為requests.post方法。"
      ],
      "metadata": {
        "id": "lry05BJAIMaP"
      }
    },
    {
      "cell_type": "code",
      "source": [
        "@contextlib.contextmanager\n",
        "def _requests_get_as_post():\n",
        "    requests.get, requests_get = requests.post, requests.get\n",
        "    try:\n",
        "        yield\n",
        "    finally:\n",
        "        requests.get = requests_get"
      ],
      "metadata": {
        "id": "c2GE0IucIRII"
      },
      "execution_count": 21,
      "outputs": []
    },
    {
      "cell_type": "markdown",
      "source": [
        "使用Google帳號進行身份驗證，獲取驗證憑證，並使用該憑證進行Google試算表的授權。"
      ],
      "metadata": {
        "id": "rbeYBcIhIZdk"
      }
    },
    {
      "cell_type": "code",
      "source": [
        "auth.authenticate_user()\n",
        "creds, _ = default()\n",
        "gc = gspread.authorize(creds)"
      ],
      "metadata": {
        "id": "H7f5w8uEIemm"
      },
      "execution_count": 22,
      "outputs": []
    },
    {
      "cell_type": "markdown",
      "source": [
        "記錄程式開始運行的時間，並建立一個_TrendReq類的實例pytrend，指定語言為英文（en-GB），時區為360。"
      ],
      "metadata": {
        "id": "IJ9GUWqFIh6s"
      }
    },
    {
      "cell_type": "code",
      "source": [
        "startTime = time.time()\n",
        "pytrend = _TrendReq(hl='en-GB', tz=360)"
      ],
      "metadata": {
        "id": "qsdFogb-Il_D"
      },
      "execution_count": 23,
      "outputs": []
    },
    {
      "cell_type": "markdown",
      "source": [
        "開啟Google試算表，獲取指定工作表（\"Criteria\"）的內容，並從工作表中讀取資料。df、wb和gc都指向同一個試算表。"
      ],
      "metadata": {
        "id": "94jlcHcfItqm"
      }
    },
    {
      "cell_type": "code",
      "source": [
        "df = wb = gc.open_by_url(SPREADSHEET)\n",
        "sheet = wb.worksheet(\"Criteria\")\n",
        "df2 = sheet.col_values(5)\n",
        "d_from = sheet.acell('B7').value\n",
        "d_to = sheet.acell('B8').value"
      ],
      "metadata": {
        "id": "5kZmtYL5I3Rd"
      },
      "execution_count": 24,
      "outputs": []
    },
    {
      "cell_type": "code",
      "source": [
        "#測試\n",
        "print('df2 是: {}'.format(df2))"
      ],
      "metadata": {
        "colab": {
          "base_uri": "https://localhost:8080/"
        },
        "id": "SWbDgTAEORG4",
        "outputId": "7279b7ae-2ba9-4b1c-fe05-48061885b3a5"
      },
      "execution_count": 41,
      "outputs": [
        {
          "output_type": "stream",
          "name": "stdout",
          "text": [
            "df2 是: ['James', 'JAMES', 'Kobe', 'CURRY', 'Curry']\n"
          ]
        }
      ]
    },
    {
      "cell_type": "code",
      "source": [
        "#測試\n",
        "print('d_from 是: {}'.format(d_from))"
      ],
      "metadata": {
        "colab": {
          "base_uri": "https://localhost:8080/"
        },
        "id": "ZyZ24ZWOOilw",
        "outputId": "27e75a80-75f9-41e0-b687-c105b9fa7aa5"
      },
      "execution_count": 42,
      "outputs": [
        {
          "output_type": "stream",
          "name": "stdout",
          "text": [
            "d_from 是: 2022-05-19\n"
          ]
        }
      ]
    },
    {
      "cell_type": "code",
      "source": [
        "#測試\n",
        "print('d_to 是: {}'.format(d_to))"
      ],
      "metadata": {
        "colab": {
          "base_uri": "https://localhost:8080/"
        },
        "id": "slqY1XtWOmij",
        "outputId": "ab063e0e-005d-4b69-b832-3a3950a806cc"
      },
      "execution_count": 43,
      "outputs": [
        {
          "output_type": "stream",
          "name": "stdout",
          "text": [
            "d_to 是: 2023-05-19\n"
          ]
        }
      ]
    },
    {
      "cell_type": "markdown",
      "source": [
        "定義一個空列表dataset_time用於存儲資料集，設置一個延遲時間DELAY_TIME為2秒，定義另外三個空列表df_list、keywords和geos。"
      ],
      "metadata": {
        "id": "DT3mHTFKI4Ug"
      }
    },
    {
      "cell_type": "code",
      "source": [
        "dataset_time = []\n",
        "DELAY_TIME = 2\n",
        "df_list = []\n",
        "keywords = []\n",
        "\n",
        "\n",
        "geos = list(sheet.col_values(7))"
      ],
      "metadata": {
        "id": "Lu5_YTBKJBdO"
      },
      "execution_count": 25,
      "outputs": []
    },
    {
      "cell_type": "code",
      "source": [
        "#測試之後 geos is a list.\n",
        "print('geos 是: {}'.format(geos))"
      ],
      "metadata": {
        "colab": {
          "base_uri": "https://localhost:8080/"
        },
        "id": "6xbOEbEGNBwl",
        "outputId": "9c6b85c8-391d-473a-bfa6-13a0cab16633"
      },
      "execution_count": 40,
      "outputs": [
        {
          "output_type": "stream",
          "name": "stdout",
          "text": [
            "geos 是: ['GB', 'CN', 'TW']\n"
          ]
        }
      ]
    },
    {
      "cell_type": "markdown",
      "source": [
        "遍歷geos列表中的元素，對每個地理位置進行相關搜尋。從df2中獲取關鍵字列表，使用pytrend.build_payload方法構建請求的參數，並進行相關搜尋。在處理過程中，如果出現錯誤，則延遲一段時間後再次嘗試。將獲得的資料加入dataset_time列表，並在資料中添加一個名為country的列。\n",
        "\n",
        "將dataset_time中的每個字典資料轉換為pandas的DataFrame格式，並將其添加到datalist列表中。\n",
        "\n",
        "將datalist中的每個DataFrame添加到df_list列表中。"
      ],
      "metadata": {
        "id": "sgDJ6ZiHJD36"
      }
    },
    {
      "cell_type": "code",
      "source": [
        "for geo1 in geos:\n",
        "  keywords = list(df2)\n",
        "\n",
        "  pytrend.build_payload(kw_list=keywords, cat=0, timeframe= str(d_from + \" \" + d_to), geo= str(geo1))\n",
        "  done = False\n",
        "  while not done:\n",
        "    try:\n",
        "      data_time = pytrend.interest_over_time()\n",
        "      done = True\n",
        "      break\n",
        "    except:\n",
        "      time.sleep(DELAY_TIME) # delay because too many requests\n",
        "\n",
        "  data_time['country']=geo1\n",
        "  data_time = data_time.drop(labels=['isPartial'],axis='columns')\n",
        "  dataset_time.append(data_time)\n",
        "\n",
        "\n",
        "  datalist = []\n",
        "  for i in dataset_time:\n",
        "    result = pd.DataFrame(i)\n",
        "    datalist.append(result)\n",
        "\n",
        "  for i in datalist:\n",
        "    df_list.append(i)"
      ],
      "metadata": {
        "id": "DSl65Jo6JQUe"
      },
      "execution_count": 26,
      "outputs": []
    },
    {
      "cell_type": "markdown",
      "source": [
        "對df_list中的每個DataFrame進行處理，去除所有列中的缺失值，並將處理後的DataFrame添加到new_df_list列表中。"
      ],
      "metadata": {
        "id": "Z17dCP1QJV3h"
      }
    },
    {
      "cell_type": "code",
      "source": [
        "new_df_list = []\n",
        "\n",
        "for i in df_list:\n",
        "  new_i = i.dropna(axis=1, how='all')\n",
        "  new_df_list.append(new_i)\n",
        "\n"
      ],
      "metadata": {
        "id": "y2Y5b2QPJbX2"
      },
      "execution_count": 27,
      "outputs": []
    },
    {
      "cell_type": "markdown",
      "source": [
        "對new_df_list中的每個DataFrame進行處理，過濾重複的資料，將不重複的DataFrame添加到final_df_list列表中。"
      ],
      "metadata": {
        "id": "Kye9pyYTKOhp"
      }
    },
    {
      "cell_type": "code",
      "source": [
        "final_df_list = None\n",
        "for i in new_df_list:\n",
        "  if final_df_list is None:\n",
        "    final_df_list = [i]\n",
        "  else:\n",
        "    hasdf = False\n",
        "    for j in final_df_list:\n",
        "      if i.equals(j):\n",
        "        hasdf = True\n",
        "    if not hasdf:\n",
        "      final_df_list.append(i)"
      ],
      "metadata": {
        "id": "rAc0smxSKQLC"
      },
      "execution_count": 28,
      "outputs": []
    },
    {
      "cell_type": "markdown",
      "source": [
        "對final_df_list中的每個DataFrame進行處理，重設索引，並將date列設置為新的索引，然後將處理後的DataFrame添加到new_final列表中。"
      ],
      "metadata": {
        "id": "cEMyh5IWKcFc"
      }
    },
    {
      "cell_type": "code",
      "source": [
        "new_final = []\n",
        "for i in final_df_list:\n",
        "  new_i = i.reset_index().set_index(['date'])\n",
        "  new_final.append(new_i)"
      ],
      "metadata": {
        "id": "GvAniHBVK8AN"
      },
      "execution_count": 29,
      "outputs": []
    },
    {
      "cell_type": "markdown",
      "source": [
        "將new_final中的所有DataFrame合併為一個大的DataFrame，並將date列轉換為日期格式，然後將其設置為索引。"
      ],
      "metadata": {
        "id": "eJ9w-AUmLLAd"
      }
    },
    {
      "cell_type": "code",
      "source": [
        "big_df = pd.concat(new_final).reset_index()\n",
        "big_df['date'] = pd.to_datetime(big_df['date']).dt.date\n",
        "\n",
        "big_df = big_df.set_index(['date'])"
      ],
      "metadata": {
        "id": "0olKfo5rLKa-"
      },
      "execution_count": 30,
      "outputs": []
    },
    {
      "cell_type": "code",
      "source": [
        "#輸出成果的dataframe\n",
        "big_df"
      ],
      "metadata": {
        "colab": {
          "base_uri": "https://localhost:8080/",
          "height": 455
        },
        "id": "bPnylNB-PFcO",
        "outputId": "c95b987f-5e08-43c3-e4dd-2ae3276514dd"
      },
      "execution_count": 44,
      "outputs": [
        {
          "output_type": "execute_result",
          "data": {
            "text/plain": [
              "            James  JAMES  Kobe  CURRY  Curry country\n",
              "date                                                \n",
              "2022-05-22     60     58     1     16     17      GB\n",
              "2022-05-29     57     57     1     17     17      GB\n",
              "2022-06-05     57     57     1     17     17      GB\n",
              "2022-06-12     58     59     1     18     18      GB\n",
              "2022-06-19     57     57     1     17     16      GB\n",
              "...           ...    ...   ...    ...    ...     ...\n",
              "2023-04-16      0      0     0      0      0      TW\n",
              "2023-04-23      0      0     0      0      0      TW\n",
              "2023-04-30     79     79    48    100    100      TW\n",
              "2023-05-07      0      0     0      0      0      TW\n",
              "2023-05-14      0      0     0      0      0      TW\n",
              "\n",
              "[156 rows x 6 columns]"
            ],
            "text/html": [
              "\n",
              "\n",
              "  <div id=\"df-6b36344c-154e-499b-ac29-9cd6c0bc21fd\">\n",
              "    <div class=\"colab-df-container\">\n",
              "      <div>\n",
              "<style scoped>\n",
              "    .dataframe tbody tr th:only-of-type {\n",
              "        vertical-align: middle;\n",
              "    }\n",
              "\n",
              "    .dataframe tbody tr th {\n",
              "        vertical-align: top;\n",
              "    }\n",
              "\n",
              "    .dataframe thead th {\n",
              "        text-align: right;\n",
              "    }\n",
              "</style>\n",
              "<table border=\"1\" class=\"dataframe\">\n",
              "  <thead>\n",
              "    <tr style=\"text-align: right;\">\n",
              "      <th></th>\n",
              "      <th>James</th>\n",
              "      <th>JAMES</th>\n",
              "      <th>Kobe</th>\n",
              "      <th>CURRY</th>\n",
              "      <th>Curry</th>\n",
              "      <th>country</th>\n",
              "    </tr>\n",
              "    <tr>\n",
              "      <th>date</th>\n",
              "      <th></th>\n",
              "      <th></th>\n",
              "      <th></th>\n",
              "      <th></th>\n",
              "      <th></th>\n",
              "      <th></th>\n",
              "    </tr>\n",
              "  </thead>\n",
              "  <tbody>\n",
              "    <tr>\n",
              "      <th>2022-05-22</th>\n",
              "      <td>60</td>\n",
              "      <td>58</td>\n",
              "      <td>1</td>\n",
              "      <td>16</td>\n",
              "      <td>17</td>\n",
              "      <td>GB</td>\n",
              "    </tr>\n",
              "    <tr>\n",
              "      <th>2022-05-29</th>\n",
              "      <td>57</td>\n",
              "      <td>57</td>\n",
              "      <td>1</td>\n",
              "      <td>17</td>\n",
              "      <td>17</td>\n",
              "      <td>GB</td>\n",
              "    </tr>\n",
              "    <tr>\n",
              "      <th>2022-06-05</th>\n",
              "      <td>57</td>\n",
              "      <td>57</td>\n",
              "      <td>1</td>\n",
              "      <td>17</td>\n",
              "      <td>17</td>\n",
              "      <td>GB</td>\n",
              "    </tr>\n",
              "    <tr>\n",
              "      <th>2022-06-12</th>\n",
              "      <td>58</td>\n",
              "      <td>59</td>\n",
              "      <td>1</td>\n",
              "      <td>18</td>\n",
              "      <td>18</td>\n",
              "      <td>GB</td>\n",
              "    </tr>\n",
              "    <tr>\n",
              "      <th>2022-06-19</th>\n",
              "      <td>57</td>\n",
              "      <td>57</td>\n",
              "      <td>1</td>\n",
              "      <td>17</td>\n",
              "      <td>16</td>\n",
              "      <td>GB</td>\n",
              "    </tr>\n",
              "    <tr>\n",
              "      <th>...</th>\n",
              "      <td>...</td>\n",
              "      <td>...</td>\n",
              "      <td>...</td>\n",
              "      <td>...</td>\n",
              "      <td>...</td>\n",
              "      <td>...</td>\n",
              "    </tr>\n",
              "    <tr>\n",
              "      <th>2023-04-16</th>\n",
              "      <td>0</td>\n",
              "      <td>0</td>\n",
              "      <td>0</td>\n",
              "      <td>0</td>\n",
              "      <td>0</td>\n",
              "      <td>TW</td>\n",
              "    </tr>\n",
              "    <tr>\n",
              "      <th>2023-04-23</th>\n",
              "      <td>0</td>\n",
              "      <td>0</td>\n",
              "      <td>0</td>\n",
              "      <td>0</td>\n",
              "      <td>0</td>\n",
              "      <td>TW</td>\n",
              "    </tr>\n",
              "    <tr>\n",
              "      <th>2023-04-30</th>\n",
              "      <td>79</td>\n",
              "      <td>79</td>\n",
              "      <td>48</td>\n",
              "      <td>100</td>\n",
              "      <td>100</td>\n",
              "      <td>TW</td>\n",
              "    </tr>\n",
              "    <tr>\n",
              "      <th>2023-05-07</th>\n",
              "      <td>0</td>\n",
              "      <td>0</td>\n",
              "      <td>0</td>\n",
              "      <td>0</td>\n",
              "      <td>0</td>\n",
              "      <td>TW</td>\n",
              "    </tr>\n",
              "    <tr>\n",
              "      <th>2023-05-14</th>\n",
              "      <td>0</td>\n",
              "      <td>0</td>\n",
              "      <td>0</td>\n",
              "      <td>0</td>\n",
              "      <td>0</td>\n",
              "      <td>TW</td>\n",
              "    </tr>\n",
              "  </tbody>\n",
              "</table>\n",
              "<p>156 rows × 6 columns</p>\n",
              "</div>\n",
              "      <button class=\"colab-df-convert\" onclick=\"convertToInteractive('df-6b36344c-154e-499b-ac29-9cd6c0bc21fd')\"\n",
              "              title=\"Convert this dataframe to an interactive table.\"\n",
              "              style=\"display:none;\">\n",
              "\n",
              "  <svg xmlns=\"http://www.w3.org/2000/svg\" height=\"24px\"viewBox=\"0 0 24 24\"\n",
              "       width=\"24px\">\n",
              "    <path d=\"M0 0h24v24H0V0z\" fill=\"none\"/>\n",
              "    <path d=\"M18.56 5.44l.94 2.06.94-2.06 2.06-.94-2.06-.94-.94-2.06-.94 2.06-2.06.94zm-11 1L8.5 8.5l.94-2.06 2.06-.94-2.06-.94L8.5 2.5l-.94 2.06-2.06.94zm10 10l.94 2.06.94-2.06 2.06-.94-2.06-.94-.94-2.06-.94 2.06-2.06.94z\"/><path d=\"M17.41 7.96l-1.37-1.37c-.4-.4-.92-.59-1.43-.59-.52 0-1.04.2-1.43.59L10.3 9.45l-7.72 7.72c-.78.78-.78 2.05 0 2.83L4 21.41c.39.39.9.59 1.41.59.51 0 1.02-.2 1.41-.59l7.78-7.78 2.81-2.81c.8-.78.8-2.07 0-2.86zM5.41 20L4 18.59l7.72-7.72 1.47 1.35L5.41 20z\"/>\n",
              "  </svg>\n",
              "      </button>\n",
              "\n",
              "\n",
              "\n",
              "    <div id=\"df-63a152a6-6384-43cd-9862-779ac530d747\">\n",
              "      <button class=\"colab-df-quickchart\" onclick=\"quickchart('df-63a152a6-6384-43cd-9862-779ac530d747')\"\n",
              "              title=\"Suggest charts.\"\n",
              "              style=\"display:none;\">\n",
              "\n",
              "<svg xmlns=\"http://www.w3.org/2000/svg\" height=\"24px\"viewBox=\"0 0 24 24\"\n",
              "     width=\"24px\">\n",
              "    <g>\n",
              "        <path d=\"M19 3H5c-1.1 0-2 .9-2 2v14c0 1.1.9 2 2 2h14c1.1 0 2-.9 2-2V5c0-1.1-.9-2-2-2zM9 17H7v-7h2v7zm4 0h-2V7h2v10zm4 0h-2v-4h2v4z\"/>\n",
              "    </g>\n",
              "</svg>\n",
              "      </button>\n",
              "    </div>\n",
              "\n",
              "<style>\n",
              "  .colab-df-quickchart {\n",
              "    background-color: #E8F0FE;\n",
              "    border: none;\n",
              "    border-radius: 50%;\n",
              "    cursor: pointer;\n",
              "    display: none;\n",
              "    fill: #1967D2;\n",
              "    height: 32px;\n",
              "    padding: 0 0 0 0;\n",
              "    width: 32px;\n",
              "  }\n",
              "\n",
              "  .colab-df-quickchart:hover {\n",
              "    background-color: #E2EBFA;\n",
              "    box-shadow: 0px 1px 2px rgba(60, 64, 67, 0.3), 0px 1px 3px 1px rgba(60, 64, 67, 0.15);\n",
              "    fill: #174EA6;\n",
              "  }\n",
              "\n",
              "  [theme=dark] .colab-df-quickchart {\n",
              "    background-color: #3B4455;\n",
              "    fill: #D2E3FC;\n",
              "  }\n",
              "\n",
              "  [theme=dark] .colab-df-quickchart:hover {\n",
              "    background-color: #434B5C;\n",
              "    box-shadow: 0px 1px 3px 1px rgba(0, 0, 0, 0.15);\n",
              "    filter: drop-shadow(0px 1px 2px rgba(0, 0, 0, 0.3));\n",
              "    fill: #FFFFFF;\n",
              "  }\n",
              "</style>\n",
              "\n",
              "    <script>\n",
              "      async function quickchart(key) {\n",
              "        const containerElement = document.querySelector('#' + key);\n",
              "        const charts = await google.colab.kernel.invokeFunction(\n",
              "            'suggestCharts', [key], {});\n",
              "      }\n",
              "    </script>\n",
              "\n",
              "      <script>\n",
              "\n",
              "function displayQuickchartButton(domScope) {\n",
              "  let quickchartButtonEl =\n",
              "    domScope.querySelector('#df-63a152a6-6384-43cd-9862-779ac530d747 button.colab-df-quickchart');\n",
              "  quickchartButtonEl.style.display =\n",
              "    google.colab.kernel.accessAllowed ? 'block' : 'none';\n",
              "}\n",
              "\n",
              "        displayQuickchartButton(document);\n",
              "      </script>\n",
              "      <style>\n",
              "    .colab-df-container {\n",
              "      display:flex;\n",
              "      flex-wrap:wrap;\n",
              "      gap: 12px;\n",
              "    }\n",
              "\n",
              "    .colab-df-convert {\n",
              "      background-color: #E8F0FE;\n",
              "      border: none;\n",
              "      border-radius: 50%;\n",
              "      cursor: pointer;\n",
              "      display: none;\n",
              "      fill: #1967D2;\n",
              "      height: 32px;\n",
              "      padding: 0 0 0 0;\n",
              "      width: 32px;\n",
              "    }\n",
              "\n",
              "    .colab-df-convert:hover {\n",
              "      background-color: #E2EBFA;\n",
              "      box-shadow: 0px 1px 2px rgba(60, 64, 67, 0.3), 0px 1px 3px 1px rgba(60, 64, 67, 0.15);\n",
              "      fill: #174EA6;\n",
              "    }\n",
              "\n",
              "    [theme=dark] .colab-df-convert {\n",
              "      background-color: #3B4455;\n",
              "      fill: #D2E3FC;\n",
              "    }\n",
              "\n",
              "    [theme=dark] .colab-df-convert:hover {\n",
              "      background-color: #434B5C;\n",
              "      box-shadow: 0px 1px 3px 1px rgba(0, 0, 0, 0.15);\n",
              "      filter: drop-shadow(0px 1px 2px rgba(0, 0, 0, 0.3));\n",
              "      fill: #FFFFFF;\n",
              "    }\n",
              "  </style>\n",
              "\n",
              "      <script>\n",
              "        const buttonEl =\n",
              "          document.querySelector('#df-6b36344c-154e-499b-ac29-9cd6c0bc21fd button.colab-df-convert');\n",
              "        buttonEl.style.display =\n",
              "          google.colab.kernel.accessAllowed ? 'block' : 'none';\n",
              "\n",
              "        async function convertToInteractive(key) {\n",
              "          const element = document.querySelector('#df-6b36344c-154e-499b-ac29-9cd6c0bc21fd');\n",
              "          const dataTable =\n",
              "            await google.colab.kernel.invokeFunction('convertToInteractive',\n",
              "                                                     [key], {});\n",
              "          if (!dataTable) return;\n",
              "\n",
              "          const docLinkHtml = 'Like what you see? Visit the ' +\n",
              "            '<a target=\"_blank\" href=https://colab.research.google.com/notebooks/data_table.ipynb>data table notebook</a>'\n",
              "            + ' to learn more about interactive tables.';\n",
              "          element.innerHTML = '';\n",
              "          dataTable['output_type'] = 'display_data';\n",
              "          await google.colab.output.renderOutput(dataTable, element);\n",
              "          const docLink = document.createElement('div');\n",
              "          docLink.innerHTML = docLinkHtml;\n",
              "          element.appendChild(docLink);\n",
              "        }\n",
              "      </script>\n",
              "    </div>\n",
              "  </div>\n"
            ]
          },
          "metadata": {},
          "execution_count": 44
        }
      ]
    },
    {
      "cell_type": "markdown",
      "source": [
        "打開名為\"Results\"的工作表，清空其內容，並將big_df中的資料寫入該工作表。"
      ],
      "metadata": {
        "id": "XtuDtm5lLQrx"
      }
    },
    {
      "cell_type": "code",
      "execution_count": 31,
      "metadata": {
        "id": "-XSJOmZYkpkm"
      },
      "outputs": [],
      "source": [
        "wsResults = wb.worksheet(\"Results\")\n",
        "wsResults.clear()\n",
        "set_with_dataframe(wsResults, big_df, include_index=True)"
      ]
    }
  ]
}