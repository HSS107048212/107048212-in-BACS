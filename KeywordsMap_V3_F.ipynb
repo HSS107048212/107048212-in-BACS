{
  "nbformat": 4,
  "nbformat_minor": 0,
  "metadata": {
    "colab": {
      "provenance": [],
      "include_colab_link": true
    },
    "kernelspec": {
      "name": "python3",
      "display_name": "Python 3"
    },
    "language_info": {
      "name": "python"
    }
  },
  "cells": [
    {
      "cell_type": "markdown",
      "metadata": {
        "id": "view-in-github",
        "colab_type": "text"
      },
      "source": [
        "<a href=\"https://colab.research.google.com/github/HSS107048212/KeywordsMap/blob/main/KeywordsMap_V3_F.ipynb\" target=\"_parent\"><img src=\"https://colab.research.google.com/assets/colab-badge.svg\" alt=\"Open In Colab\"/></a>"
      ]
    },
    {
      "cell_type": "markdown",
      "source": [
        "安裝所需的Python套件：Pytrends、pandas和gspread-dataframe"
      ],
      "metadata": {
        "id": "bSSIIvTbHlkX"
      }
    },
    {
      "cell_type": "code",
      "source": [
        "!pip install Pytrends\n",
        "!pip install pandas\n",
        "!pip install gspread-dataframe==3.2.1"
      ],
      "metadata": {
        "colab": {
          "base_uri": "https://localhost:8080/"
        },
        "id": "Ny1XTu-xHpQV",
        "outputId": "6a31c96d-bcde-445f-b6fa-c9da6296f8a9"
      },
      "execution_count": 93,
      "outputs": [
        {
          "output_type": "stream",
          "name": "stdout",
          "text": [
            "Requirement already satisfied: Pytrends in /usr/local/lib/python3.10/dist-packages (4.9.2)\n",
            "Requirement already satisfied: requests>=2.0 in /usr/local/lib/python3.10/dist-packages (from Pytrends) (2.27.1)\n",
            "Requirement already satisfied: pandas>=0.25 in /usr/local/lib/python3.10/dist-packages (from Pytrends) (1.5.3)\n",
            "Requirement already satisfied: lxml in /usr/local/lib/python3.10/dist-packages (from Pytrends) (4.9.3)\n",
            "Requirement already satisfied: python-dateutil>=2.8.1 in /usr/local/lib/python3.10/dist-packages (from pandas>=0.25->Pytrends) (2.8.2)\n",
            "Requirement already satisfied: pytz>=2020.1 in /usr/local/lib/python3.10/dist-packages (from pandas>=0.25->Pytrends) (2022.7.1)\n",
            "Requirement already satisfied: numpy>=1.21.0 in /usr/local/lib/python3.10/dist-packages (from pandas>=0.25->Pytrends) (1.22.4)\n",
            "Requirement already satisfied: urllib3<1.27,>=1.21.1 in /usr/local/lib/python3.10/dist-packages (from requests>=2.0->Pytrends) (1.26.16)\n",
            "Requirement already satisfied: certifi>=2017.4.17 in /usr/local/lib/python3.10/dist-packages (from requests>=2.0->Pytrends) (2023.5.7)\n",
            "Requirement already satisfied: charset-normalizer~=2.0.0 in /usr/local/lib/python3.10/dist-packages (from requests>=2.0->Pytrends) (2.0.12)\n",
            "Requirement already satisfied: idna<4,>=2.5 in /usr/local/lib/python3.10/dist-packages (from requests>=2.0->Pytrends) (3.4)\n",
            "Requirement already satisfied: six>=1.5 in /usr/local/lib/python3.10/dist-packages (from python-dateutil>=2.8.1->pandas>=0.25->Pytrends) (1.16.0)\n",
            "Requirement already satisfied: pandas in /usr/local/lib/python3.10/dist-packages (1.5.3)\n",
            "Requirement already satisfied: python-dateutil>=2.8.1 in /usr/local/lib/python3.10/dist-packages (from pandas) (2.8.2)\n",
            "Requirement already satisfied: pytz>=2020.1 in /usr/local/lib/python3.10/dist-packages (from pandas) (2022.7.1)\n",
            "Requirement already satisfied: numpy>=1.21.0 in /usr/local/lib/python3.10/dist-packages (from pandas) (1.22.4)\n",
            "Requirement already satisfied: six>=1.5 in /usr/local/lib/python3.10/dist-packages (from python-dateutil>=2.8.1->pandas) (1.16.0)\n",
            "Requirement already satisfied: gspread-dataframe==3.2.1 in /usr/local/lib/python3.10/dist-packages (3.2.1)\n",
            "Requirement already satisfied: gspread>=3.0.0 in /usr/local/lib/python3.10/dist-packages (from gspread-dataframe==3.2.1) (3.4.2)\n",
            "Requirement already satisfied: pandas>=0.24.0 in /usr/local/lib/python3.10/dist-packages (from gspread-dataframe==3.2.1) (1.5.3)\n",
            "Requirement already satisfied: six>=1.12.0 in /usr/local/lib/python3.10/dist-packages (from gspread-dataframe==3.2.1) (1.16.0)\n",
            "Requirement already satisfied: requests>=2.2.1 in /usr/local/lib/python3.10/dist-packages (from gspread>=3.0.0->gspread-dataframe==3.2.1) (2.27.1)\n",
            "Requirement already satisfied: google-auth in /usr/local/lib/python3.10/dist-packages (from gspread>=3.0.0->gspread-dataframe==3.2.1) (2.17.3)\n",
            "Requirement already satisfied: python-dateutil>=2.8.1 in /usr/local/lib/python3.10/dist-packages (from pandas>=0.24.0->gspread-dataframe==3.2.1) (2.8.2)\n",
            "Requirement already satisfied: pytz>=2020.1 in /usr/local/lib/python3.10/dist-packages (from pandas>=0.24.0->gspread-dataframe==3.2.1) (2022.7.1)\n",
            "Requirement already satisfied: numpy>=1.21.0 in /usr/local/lib/python3.10/dist-packages (from pandas>=0.24.0->gspread-dataframe==3.2.1) (1.22.4)\n",
            "Requirement already satisfied: urllib3<1.27,>=1.21.1 in /usr/local/lib/python3.10/dist-packages (from requests>=2.2.1->gspread>=3.0.0->gspread-dataframe==3.2.1) (1.26.16)\n",
            "Requirement already satisfied: certifi>=2017.4.17 in /usr/local/lib/python3.10/dist-packages (from requests>=2.2.1->gspread>=3.0.0->gspread-dataframe==3.2.1) (2023.5.7)\n",
            "Requirement already satisfied: charset-normalizer~=2.0.0 in /usr/local/lib/python3.10/dist-packages (from requests>=2.2.1->gspread>=3.0.0->gspread-dataframe==3.2.1) (2.0.12)\n",
            "Requirement already satisfied: idna<4,>=2.5 in /usr/local/lib/python3.10/dist-packages (from requests>=2.2.1->gspread>=3.0.0->gspread-dataframe==3.2.1) (3.4)\n",
            "Requirement already satisfied: cachetools<6.0,>=2.0.0 in /usr/local/lib/python3.10/dist-packages (from google-auth->gspread>=3.0.0->gspread-dataframe==3.2.1) (5.3.1)\n",
            "Requirement already satisfied: pyasn1-modules>=0.2.1 in /usr/local/lib/python3.10/dist-packages (from google-auth->gspread>=3.0.0->gspread-dataframe==3.2.1) (0.3.0)\n",
            "Requirement already satisfied: rsa<5,>=3.1.4 in /usr/local/lib/python3.10/dist-packages (from google-auth->gspread>=3.0.0->gspread-dataframe==3.2.1) (4.9)\n",
            "Requirement already satisfied: pyasn1<0.6.0,>=0.4.6 in /usr/local/lib/python3.10/dist-packages (from pyasn1-modules>=0.2.1->google-auth->gspread>=3.0.0->gspread-dataframe==3.2.1) (0.5.0)\n"
          ]
        }
      ]
    },
    {
      "cell_type": "markdown",
      "source": [
        "匯入所需的Python套件和模組。"
      ],
      "metadata": {
        "id": "qCiGP-XlH22R"
      }
    },
    {
      "cell_type": "code",
      "source": [
        "import pandas as pd\n",
        "from pytrends.request import TrendReq\n",
        "from google.colab import auth\n",
        "import gspread\n",
        "from google.auth import default\n",
        "import time\n",
        "import matplotlib.pyplot as plt\n",
        "import seaborn as sns\n",
        "from gspread_dataframe import get_as_dataframe, set_with_dataframe\n",
        "import urllib.parse\n",
        "import pathlib\n",
        "\n",
        "import contextlib\n",
        "\n",
        "import requests\n",
        "from pytrends.request import TrendReq"
      ],
      "metadata": {
        "id": "WI73yh-xH2Xy"
      },
      "execution_count": 94,
      "outputs": []
    },
    {
      "cell_type": "markdown",
      "source": [
        "定義一個名為_TrendReq的類別，繼承自TrendReq類別，並定義GetGoogleCookie方法。"
      ],
      "metadata": {
        "id": "gFEJWdkuH6p8"
      }
    },
    {
      "cell_type": "code",
      "source": [
        "class _TrendReq(TrendReq):\n",
        "    def GetGoogleCookie(self):\n",
        "        # TODO: make sure to get rid of this dirty hack\n",
        "        with _requests_get_as_post():\n",
        "            return super().GetGoogleCookie()"
      ],
      "metadata": {
        "id": "z6MiDwKUIJEA"
      },
      "execution_count": 95,
      "outputs": []
    },
    {
      "cell_type": "markdown",
      "source": [
        "定義一個名為_requests_get_as_post的上下文管理器，將requests.get方法替換為requests.post方法。"
      ],
      "metadata": {
        "id": "lry05BJAIMaP"
      }
    },
    {
      "cell_type": "code",
      "source": [
        "@contextlib.contextmanager\n",
        "def _requests_get_as_post():\n",
        "    requests.get, requests_get = requests.post, requests.get\n",
        "    try:\n",
        "        yield\n",
        "    finally:\n",
        "        requests.get = requests_get"
      ],
      "metadata": {
        "id": "c2GE0IucIRII"
      },
      "execution_count": 96,
      "outputs": []
    },
    {
      "cell_type": "markdown",
      "source": [
        "記錄程式開始運行的時間，並建立一個_TrendReq類的實例pytrend，指定語言為英文（en-GB），時區為360。"
      ],
      "metadata": {
        "id": "IJ9GUWqFIh6s"
      }
    },
    {
      "cell_type": "code",
      "source": [
        "startTime = time.time()\n",
        "pytrend = _TrendReq(hl='en-GB', tz=360)"
      ],
      "metadata": {
        "id": "qsdFogb-Il_D"
      },
      "execution_count": 97,
      "outputs": []
    },
    {
      "cell_type": "code",
      "source": [
        "df2 = ['LeBron Raymone James Sr.','雷霸龍·瑞蒙·詹姆士一世','LeBron James', '雷霸龍·詹姆士一世', '雷霸龍·詹姆士']\n",
        "d_from=\"2022-01-19\"\n",
        "d_to=\"2023-06-19\"\n",
        "geos=['TW']"
      ],
      "metadata": {
        "id": "nac5zPFbR8Ro"
      },
      "execution_count": 98,
      "outputs": []
    },
    {
      "cell_type": "markdown",
      "source": [
        "定義一個空列表dataset_time用於存儲資料集，設置一個延遲時間DELAY_TIME為2秒，定義另外三個空列表df_list、keywords和geos。"
      ],
      "metadata": {
        "id": "DT3mHTFKI4Ug"
      }
    },
    {
      "cell_type": "code",
      "source": [
        "dataset_time = []\n",
        "DELAY_TIME = 2\n",
        "df_list = []\n",
        "keywords = []"
      ],
      "metadata": {
        "id": "Lu5_YTBKJBdO"
      },
      "execution_count": 99,
      "outputs": []
    },
    {
      "cell_type": "markdown",
      "source": [
        "遍歷geos列表中的元素，對每個地理位置進行相關搜尋。從df2中獲取關鍵字列表，使用pytrend.build_payload方法構建請求的參數，並進行相關搜尋。在處理過程中，如果出現錯誤，則延遲一段時間後再次嘗試。將獲得的資料加入dataset_time列表，並在資料中添加一個名為country的列。\n",
        "\n",
        "將dataset_time中的每個字典資料轉換為pandas的DataFrame格式，並將其添加到datalist列表中。\n",
        "\n",
        "將datalist中的每個DataFrame添加到df_list列表中。"
      ],
      "metadata": {
        "id": "sgDJ6ZiHJD36"
      }
    },
    {
      "cell_type": "code",
      "source": [
        "for geo1 in geos:\n",
        "  keywords = list(df2)\n",
        "\n",
        "  pytrend.build_payload(kw_list=keywords, cat=0, timeframe= str(d_from + \" \" + d_to), geo= str(geo1))\n",
        "  done = False\n",
        "  while not done:\n",
        "    try:\n",
        "      data_time = pytrend.interest_over_time()\n",
        "      done = True\n",
        "      break\n",
        "    except:\n",
        "      time.sleep(DELAY_TIME) # delay because too many requests\n",
        "\n",
        "  data_time['country']=geo1\n",
        "  data_time = data_time.drop(labels=['isPartial'],axis='columns')\n",
        "  dataset_time.append(data_time)\n",
        "\n",
        "\n",
        "  datalist = []\n",
        "  for i in dataset_time:\n",
        "    result = pd.DataFrame(i)\n",
        "    datalist.append(result)\n",
        "\n",
        "  for i in datalist:\n",
        "    df_list.append(i)"
      ],
      "metadata": {
        "id": "DSl65Jo6JQUe"
      },
      "execution_count": 100,
      "outputs": []
    },
    {
      "cell_type": "markdown",
      "source": [
        "對df_list中的每個DataFrame進行處理，去除所有列中的缺失值，並將處理後的DataFrame添加到new_df_list列表中。"
      ],
      "metadata": {
        "id": "Z17dCP1QJV3h"
      }
    },
    {
      "cell_type": "code",
      "source": [
        "new_df_list = []\n",
        "\n",
        "for i in df_list:\n",
        "  new_i = i.dropna(axis=1, how='all')\n",
        "  new_df_list.append(new_i)\n",
        "\n"
      ],
      "metadata": {
        "id": "y2Y5b2QPJbX2"
      },
      "execution_count": 101,
      "outputs": []
    },
    {
      "cell_type": "markdown",
      "source": [
        "對new_df_list中的每個DataFrame進行處理，過濾重複的資料，將不重複的DataFrame添加到final_df_list列表中。"
      ],
      "metadata": {
        "id": "Kye9pyYTKOhp"
      }
    },
    {
      "cell_type": "code",
      "source": [
        "final_df_list = None\n",
        "for i in new_df_list:\n",
        "  if final_df_list is None:\n",
        "    final_df_list = [i]\n",
        "  else:\n",
        "    hasdf = False\n",
        "    for j in final_df_list:\n",
        "      if i.equals(j):\n",
        "        hasdf = True\n",
        "    if not hasdf:\n",
        "      final_df_list.append(i)"
      ],
      "metadata": {
        "id": "rAc0smxSKQLC"
      },
      "execution_count": 102,
      "outputs": []
    },
    {
      "cell_type": "markdown",
      "source": [
        "對final_df_list中的每個DataFrame進行處理，重設索引，並將date列設置為新的索引，然後將處理後的DataFrame添加到new_final列表中。"
      ],
      "metadata": {
        "id": "cEMyh5IWKcFc"
      }
    },
    {
      "cell_type": "code",
      "source": [
        "new_final = []\n",
        "for i in final_df_list:\n",
        "  new_i = i.reset_index().set_index(['date'])\n",
        "  new_final.append(new_i)"
      ],
      "metadata": {
        "id": "GvAniHBVK8AN"
      },
      "execution_count": 103,
      "outputs": []
    },
    {
      "cell_type": "markdown",
      "source": [
        "將new_final中的所有DataFrame合併為一個大的DataFrame，並將date列轉換為日期格式，然後將其設置為索引。"
      ],
      "metadata": {
        "id": "eJ9w-AUmLLAd"
      }
    },
    {
      "cell_type": "code",
      "source": [
        "big_df = pd.concat(new_final).reset_index()\n",
        "big_df['date'] = pd.to_datetime(big_df['date']).dt.date\n",
        "\n",
        "#big_df = big_df.set_index(['date'])"
      ],
      "metadata": {
        "id": "0olKfo5rLKa-"
      },
      "execution_count": 107,
      "outputs": []
    },
    {
      "cell_type": "code",
      "source": [
        "#輸出成果的dataframe\n",
        "big_df"
      ],
      "metadata": {
        "colab": {
          "base_uri": "https://localhost:8080/",
          "height": 424
        },
        "id": "bPnylNB-PFcO",
        "outputId": "fd07aa68-cbcd-4390-f187-c50ad5f3e664"
      },
      "execution_count": 108,
      "outputs": [
        {
          "output_type": "execute_result",
          "data": {
            "text/plain": [
              "          date  LeBron Raymone James Sr.  雷霸龍·瑞蒙·詹姆士一世  LeBron James  \\\n",
              "0   2022-01-23                         0             0            16   \n",
              "1   2022-01-30                         0             0            12   \n",
              "2   2022-02-06                         0             0            13   \n",
              "3   2022-02-13                         0             0            15   \n",
              "4   2022-02-20                         0             0            17   \n",
              "..         ...                       ...           ...           ...   \n",
              "69  2023-05-21                         0             0            27   \n",
              "70  2023-05-28                         0             0            12   \n",
              "71  2023-06-04                         0             0            11   \n",
              "72  2023-06-11                         0             0            11   \n",
              "73  2023-06-18                         0             0            10   \n",
              "\n",
              "    雷霸龍·詹姆士一世  雷霸龍·詹姆士 country  \n",
              "0           0        1      TW  \n",
              "1           0        1      TW  \n",
              "2           0        0      TW  \n",
              "3           0        0      TW  \n",
              "4           0        0      TW  \n",
              "..        ...      ...     ...  \n",
              "69          0        0      TW  \n",
              "70          0        1      TW  \n",
              "71          0        0      TW  \n",
              "72          0        0      TW  \n",
              "73          0        0      TW  \n",
              "\n",
              "[74 rows x 7 columns]"
            ],
            "text/html": [
              "\n",
              "\n",
              "  <div id=\"df-b3309de5-f886-4526-ac24-6fd987a6cab3\">\n",
              "    <div class=\"colab-df-container\">\n",
              "      <div>\n",
              "<style scoped>\n",
              "    .dataframe tbody tr th:only-of-type {\n",
              "        vertical-align: middle;\n",
              "    }\n",
              "\n",
              "    .dataframe tbody tr th {\n",
              "        vertical-align: top;\n",
              "    }\n",
              "\n",
              "    .dataframe thead th {\n",
              "        text-align: right;\n",
              "    }\n",
              "</style>\n",
              "<table border=\"1\" class=\"dataframe\">\n",
              "  <thead>\n",
              "    <tr style=\"text-align: right;\">\n",
              "      <th></th>\n",
              "      <th>date</th>\n",
              "      <th>LeBron Raymone James Sr.</th>\n",
              "      <th>雷霸龍·瑞蒙·詹姆士一世</th>\n",
              "      <th>LeBron James</th>\n",
              "      <th>雷霸龍·詹姆士一世</th>\n",
              "      <th>雷霸龍·詹姆士</th>\n",
              "      <th>country</th>\n",
              "    </tr>\n",
              "  </thead>\n",
              "  <tbody>\n",
              "    <tr>\n",
              "      <th>0</th>\n",
              "      <td>2022-01-23</td>\n",
              "      <td>0</td>\n",
              "      <td>0</td>\n",
              "      <td>16</td>\n",
              "      <td>0</td>\n",
              "      <td>1</td>\n",
              "      <td>TW</td>\n",
              "    </tr>\n",
              "    <tr>\n",
              "      <th>1</th>\n",
              "      <td>2022-01-30</td>\n",
              "      <td>0</td>\n",
              "      <td>0</td>\n",
              "      <td>12</td>\n",
              "      <td>0</td>\n",
              "      <td>1</td>\n",
              "      <td>TW</td>\n",
              "    </tr>\n",
              "    <tr>\n",
              "      <th>2</th>\n",
              "      <td>2022-02-06</td>\n",
              "      <td>0</td>\n",
              "      <td>0</td>\n",
              "      <td>13</td>\n",
              "      <td>0</td>\n",
              "      <td>0</td>\n",
              "      <td>TW</td>\n",
              "    </tr>\n",
              "    <tr>\n",
              "      <th>3</th>\n",
              "      <td>2022-02-13</td>\n",
              "      <td>0</td>\n",
              "      <td>0</td>\n",
              "      <td>15</td>\n",
              "      <td>0</td>\n",
              "      <td>0</td>\n",
              "      <td>TW</td>\n",
              "    </tr>\n",
              "    <tr>\n",
              "      <th>4</th>\n",
              "      <td>2022-02-20</td>\n",
              "      <td>0</td>\n",
              "      <td>0</td>\n",
              "      <td>17</td>\n",
              "      <td>0</td>\n",
              "      <td>0</td>\n",
              "      <td>TW</td>\n",
              "    </tr>\n",
              "    <tr>\n",
              "      <th>...</th>\n",
              "      <td>...</td>\n",
              "      <td>...</td>\n",
              "      <td>...</td>\n",
              "      <td>...</td>\n",
              "      <td>...</td>\n",
              "      <td>...</td>\n",
              "      <td>...</td>\n",
              "    </tr>\n",
              "    <tr>\n",
              "      <th>69</th>\n",
              "      <td>2023-05-21</td>\n",
              "      <td>0</td>\n",
              "      <td>0</td>\n",
              "      <td>27</td>\n",
              "      <td>0</td>\n",
              "      <td>0</td>\n",
              "      <td>TW</td>\n",
              "    </tr>\n",
              "    <tr>\n",
              "      <th>70</th>\n",
              "      <td>2023-05-28</td>\n",
              "      <td>0</td>\n",
              "      <td>0</td>\n",
              "      <td>12</td>\n",
              "      <td>0</td>\n",
              "      <td>1</td>\n",
              "      <td>TW</td>\n",
              "    </tr>\n",
              "    <tr>\n",
              "      <th>71</th>\n",
              "      <td>2023-06-04</td>\n",
              "      <td>0</td>\n",
              "      <td>0</td>\n",
              "      <td>11</td>\n",
              "      <td>0</td>\n",
              "      <td>0</td>\n",
              "      <td>TW</td>\n",
              "    </tr>\n",
              "    <tr>\n",
              "      <th>72</th>\n",
              "      <td>2023-06-11</td>\n",
              "      <td>0</td>\n",
              "      <td>0</td>\n",
              "      <td>11</td>\n",
              "      <td>0</td>\n",
              "      <td>0</td>\n",
              "      <td>TW</td>\n",
              "    </tr>\n",
              "    <tr>\n",
              "      <th>73</th>\n",
              "      <td>2023-06-18</td>\n",
              "      <td>0</td>\n",
              "      <td>0</td>\n",
              "      <td>10</td>\n",
              "      <td>0</td>\n",
              "      <td>0</td>\n",
              "      <td>TW</td>\n",
              "    </tr>\n",
              "  </tbody>\n",
              "</table>\n",
              "<p>74 rows × 7 columns</p>\n",
              "</div>\n",
              "      <button class=\"colab-df-convert\" onclick=\"convertToInteractive('df-b3309de5-f886-4526-ac24-6fd987a6cab3')\"\n",
              "              title=\"Convert this dataframe to an interactive table.\"\n",
              "              style=\"display:none;\">\n",
              "\n",
              "  <svg xmlns=\"http://www.w3.org/2000/svg\" height=\"24px\"viewBox=\"0 0 24 24\"\n",
              "       width=\"24px\">\n",
              "    <path d=\"M0 0h24v24H0V0z\" fill=\"none\"/>\n",
              "    <path d=\"M18.56 5.44l.94 2.06.94-2.06 2.06-.94-2.06-.94-.94-2.06-.94 2.06-2.06.94zm-11 1L8.5 8.5l.94-2.06 2.06-.94-2.06-.94L8.5 2.5l-.94 2.06-2.06.94zm10 10l.94 2.06.94-2.06 2.06-.94-2.06-.94-.94-2.06-.94 2.06-2.06.94z\"/><path d=\"M17.41 7.96l-1.37-1.37c-.4-.4-.92-.59-1.43-.59-.52 0-1.04.2-1.43.59L10.3 9.45l-7.72 7.72c-.78.78-.78 2.05 0 2.83L4 21.41c.39.39.9.59 1.41.59.51 0 1.02-.2 1.41-.59l7.78-7.78 2.81-2.81c.8-.78.8-2.07 0-2.86zM5.41 20L4 18.59l7.72-7.72 1.47 1.35L5.41 20z\"/>\n",
              "  </svg>\n",
              "      </button>\n",
              "\n",
              "\n",
              "\n",
              "    <div id=\"df-8bec8feb-1925-4dd7-b0d4-90859678e49c\">\n",
              "      <button class=\"colab-df-quickchart\" onclick=\"quickchart('df-8bec8feb-1925-4dd7-b0d4-90859678e49c')\"\n",
              "              title=\"Suggest charts.\"\n",
              "              style=\"display:none;\">\n",
              "\n",
              "<svg xmlns=\"http://www.w3.org/2000/svg\" height=\"24px\"viewBox=\"0 0 24 24\"\n",
              "     width=\"24px\">\n",
              "    <g>\n",
              "        <path d=\"M19 3H5c-1.1 0-2 .9-2 2v14c0 1.1.9 2 2 2h14c1.1 0 2-.9 2-2V5c0-1.1-.9-2-2-2zM9 17H7v-7h2v7zm4 0h-2V7h2v10zm4 0h-2v-4h2v4z\"/>\n",
              "    </g>\n",
              "</svg>\n",
              "      </button>\n",
              "    </div>\n",
              "\n",
              "<style>\n",
              "  .colab-df-quickchart {\n",
              "    background-color: #E8F0FE;\n",
              "    border: none;\n",
              "    border-radius: 50%;\n",
              "    cursor: pointer;\n",
              "    display: none;\n",
              "    fill: #1967D2;\n",
              "    height: 32px;\n",
              "    padding: 0 0 0 0;\n",
              "    width: 32px;\n",
              "  }\n",
              "\n",
              "  .colab-df-quickchart:hover {\n",
              "    background-color: #E2EBFA;\n",
              "    box-shadow: 0px 1px 2px rgba(60, 64, 67, 0.3), 0px 1px 3px 1px rgba(60, 64, 67, 0.15);\n",
              "    fill: #174EA6;\n",
              "  }\n",
              "\n",
              "  [theme=dark] .colab-df-quickchart {\n",
              "    background-color: #3B4455;\n",
              "    fill: #D2E3FC;\n",
              "  }\n",
              "\n",
              "  [theme=dark] .colab-df-quickchart:hover {\n",
              "    background-color: #434B5C;\n",
              "    box-shadow: 0px 1px 3px 1px rgba(0, 0, 0, 0.15);\n",
              "    filter: drop-shadow(0px 1px 2px rgba(0, 0, 0, 0.3));\n",
              "    fill: #FFFFFF;\n",
              "  }\n",
              "</style>\n",
              "\n",
              "    <script>\n",
              "      async function quickchart(key) {\n",
              "        const containerElement = document.querySelector('#' + key);\n",
              "        const charts = await google.colab.kernel.invokeFunction(\n",
              "            'suggestCharts', [key], {});\n",
              "      }\n",
              "    </script>\n",
              "\n",
              "      <script>\n",
              "\n",
              "function displayQuickchartButton(domScope) {\n",
              "  let quickchartButtonEl =\n",
              "    domScope.querySelector('#df-8bec8feb-1925-4dd7-b0d4-90859678e49c button.colab-df-quickchart');\n",
              "  quickchartButtonEl.style.display =\n",
              "    google.colab.kernel.accessAllowed ? 'block' : 'none';\n",
              "}\n",
              "\n",
              "        displayQuickchartButton(document);\n",
              "      </script>\n",
              "      <style>\n",
              "    .colab-df-container {\n",
              "      display:flex;\n",
              "      flex-wrap:wrap;\n",
              "      gap: 12px;\n",
              "    }\n",
              "\n",
              "    .colab-df-convert {\n",
              "      background-color: #E8F0FE;\n",
              "      border: none;\n",
              "      border-radius: 50%;\n",
              "      cursor: pointer;\n",
              "      display: none;\n",
              "      fill: #1967D2;\n",
              "      height: 32px;\n",
              "      padding: 0 0 0 0;\n",
              "      width: 32px;\n",
              "    }\n",
              "\n",
              "    .colab-df-convert:hover {\n",
              "      background-color: #E2EBFA;\n",
              "      box-shadow: 0px 1px 2px rgba(60, 64, 67, 0.3), 0px 1px 3px 1px rgba(60, 64, 67, 0.15);\n",
              "      fill: #174EA6;\n",
              "    }\n",
              "\n",
              "    [theme=dark] .colab-df-convert {\n",
              "      background-color: #3B4455;\n",
              "      fill: #D2E3FC;\n",
              "    }\n",
              "\n",
              "    [theme=dark] .colab-df-convert:hover {\n",
              "      background-color: #434B5C;\n",
              "      box-shadow: 0px 1px 3px 1px rgba(0, 0, 0, 0.15);\n",
              "      filter: drop-shadow(0px 1px 2px rgba(0, 0, 0, 0.3));\n",
              "      fill: #FFFFFF;\n",
              "    }\n",
              "  </style>\n",
              "\n",
              "      <script>\n",
              "        const buttonEl =\n",
              "          document.querySelector('#df-b3309de5-f886-4526-ac24-6fd987a6cab3 button.colab-df-convert');\n",
              "        buttonEl.style.display =\n",
              "          google.colab.kernel.accessAllowed ? 'block' : 'none';\n",
              "\n",
              "        async function convertToInteractive(key) {\n",
              "          const element = document.querySelector('#df-b3309de5-f886-4526-ac24-6fd987a6cab3');\n",
              "          const dataTable =\n",
              "            await google.colab.kernel.invokeFunction('convertToInteractive',\n",
              "                                                     [key], {});\n",
              "          if (!dataTable) return;\n",
              "\n",
              "          const docLinkHtml = 'Like what you see? Visit the ' +\n",
              "            '<a target=\"_blank\" href=https://colab.research.google.com/notebooks/data_table.ipynb>data table notebook</a>'\n",
              "            + ' to learn more about interactive tables.';\n",
              "          element.innerHTML = '';\n",
              "          dataTable['output_type'] = 'display_data';\n",
              "          await google.colab.output.renderOutput(dataTable, element);\n",
              "          const docLink = document.createElement('div');\n",
              "          docLink.innerHTML = docLinkHtml;\n",
              "          element.appendChild(docLink);\n",
              "        }\n",
              "      </script>\n",
              "    </div>\n",
              "  </div>\n"
            ]
          },
          "metadata": {},
          "execution_count": 108
        }
      ]
    },
    {
      "cell_type": "code",
      "source": [
        "import pandas as pd\n",
        "import matplotlib.pyplot as plt\n",
        "\n",
        "def plot_line_chart(df):\n",
        "    # 將 'date' 欄位轉換為日期型別\n",
        "    df['date'] = pd.to_datetime(df['date'])\n",
        "\n",
        "    # 設定圖形大小\n",
        "    plt.figure(figsize=(10, 6))\n",
        "\n",
        "    # 繪製折線圖\n",
        "    for column in df.columns[1:-1]:\n",
        "        plt.plot(df['date'], df[column], marker='o', label=column)\n",
        "\n",
        "    # 設定標籤和標題\n",
        "    plt.xlabel('Date')\n",
        "    plt.ylabel('Value')\n",
        "    plt.title('Line Chart')\n",
        "\n",
        "    # 設定圖例\n",
        "    plt.legend()\n",
        "\n",
        "    # 顯示圖形\n",
        "    plt.show()\n"
      ],
      "metadata": {
        "id": "_anC8_bLk-4O"
      },
      "execution_count": 115,
      "outputs": []
    },
    {
      "cell_type": "code",
      "source": [
        "plot_line_chart(big_df)"
      ],
      "metadata": {
        "colab": {
          "base_uri": "https://localhost:8080/",
          "height": 941
        },
        "id": "sXFDeeiplqcc",
        "outputId": "ea239b41-cc13-4b0c-8514-247898ec398e"
      },
      "execution_count": 116,
      "outputs": [
        {
          "output_type": "stream",
          "name": "stderr",
          "text": [
            "/usr/local/lib/python3.10/dist-packages/IPython/core/pylabtools.py:151: UserWarning: Glyph 38647 (\\N{CJK UNIFIED IDEOGRAPH-96F7}) missing from current font.\n",
            "  fig.canvas.print_figure(bytes_io, **kw)\n",
            "/usr/local/lib/python3.10/dist-packages/IPython/core/pylabtools.py:151: UserWarning: Glyph 38712 (\\N{CJK UNIFIED IDEOGRAPH-9738}) missing from current font.\n",
            "  fig.canvas.print_figure(bytes_io, **kw)\n",
            "/usr/local/lib/python3.10/dist-packages/IPython/core/pylabtools.py:151: UserWarning: Glyph 40845 (\\N{CJK UNIFIED IDEOGRAPH-9F8D}) missing from current font.\n",
            "  fig.canvas.print_figure(bytes_io, **kw)\n",
            "/usr/local/lib/python3.10/dist-packages/IPython/core/pylabtools.py:151: UserWarning: Glyph 29790 (\\N{CJK UNIFIED IDEOGRAPH-745E}) missing from current font.\n",
            "  fig.canvas.print_figure(bytes_io, **kw)\n",
            "/usr/local/lib/python3.10/dist-packages/IPython/core/pylabtools.py:151: UserWarning: Glyph 33945 (\\N{CJK UNIFIED IDEOGRAPH-8499}) missing from current font.\n",
            "  fig.canvas.print_figure(bytes_io, **kw)\n",
            "/usr/local/lib/python3.10/dist-packages/IPython/core/pylabtools.py:151: UserWarning: Glyph 35449 (\\N{CJK UNIFIED IDEOGRAPH-8A79}) missing from current font.\n",
            "  fig.canvas.print_figure(bytes_io, **kw)\n",
            "/usr/local/lib/python3.10/dist-packages/IPython/core/pylabtools.py:151: UserWarning: Glyph 22982 (\\N{CJK UNIFIED IDEOGRAPH-59C6}) missing from current font.\n",
            "  fig.canvas.print_figure(bytes_io, **kw)\n",
            "/usr/local/lib/python3.10/dist-packages/IPython/core/pylabtools.py:151: UserWarning: Glyph 22763 (\\N{CJK UNIFIED IDEOGRAPH-58EB}) missing from current font.\n",
            "  fig.canvas.print_figure(bytes_io, **kw)\n",
            "/usr/local/lib/python3.10/dist-packages/IPython/core/pylabtools.py:151: UserWarning: Glyph 19968 (\\N{CJK UNIFIED IDEOGRAPH-4E00}) missing from current font.\n",
            "  fig.canvas.print_figure(bytes_io, **kw)\n",
            "/usr/local/lib/python3.10/dist-packages/IPython/core/pylabtools.py:151: UserWarning: Glyph 19990 (\\N{CJK UNIFIED IDEOGRAPH-4E16}) missing from current font.\n",
            "  fig.canvas.print_figure(bytes_io, **kw)\n"
          ]
        },
        {
          "output_type": "display_data",
          "data": {
            "text/plain": [
              "<Figure size 1000x600 with 1 Axes>"
            ],
            "image/png": "[encoded data removed]"
          },
          "metadata": {}
        }
      ]
    }
  ]
}